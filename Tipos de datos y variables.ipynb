{
 "cells": [
  {
   "cell_type": "markdown",
   "id": "9af1f9e6",
   "metadata": {},
   "source": [
    "## Panorama\n",
    "\n",
    "int = Integer / Enteros\n",
    "\n",
    "float = Float / Números con decimales\n",
    "\n",
    "complex = Complex / Complejos (Números con una parte real y un imaginaria)\n",
    "\n",
    "bool = Boolean (True/False) / Valores Lógicos (Verdadero/Falso)\n",
    "\n",
    "str = Strings / Cadenas, Textos"
   ]
  },
  {
   "cell_type": "markdown",
   "id": "162bd7c8",
   "metadata": {},
   "source": [
    "# int - Integers/Enteros"
   ]
  },
  {
   "cell_type": "code",
   "execution_count": 2,
   "id": "c3de9fc4",
   "metadata": {},
   "outputs": [
    {
     "name": "stdout",
     "output_type": "stream",
     "text": [
      "El valor de my_interger es:  11\n",
      "El tipo de dato de my_interger es:  <class 'int'>\n"
     ]
    }
   ],
   "source": [
    "my_interger = 11\n",
    "print(\"El valor de my_interger es: \", my_interger)\n",
    "print(\"El tipo de dato de my_interger es: \", type(my_interger))"
   ]
  },
  {
   "cell_type": "code",
   "execution_count": 3,
   "id": "71b783a6",
   "metadata": {},
   "outputs": [
    {
     "name": "stdout",
     "output_type": "stream",
     "text": [
      "El valor de my_interger es:  2022\n",
      "El tipo de dato de my_interger es:  <class 'int'>\n"
     ]
    }
   ],
   "source": [
    "my_interger = 2022\n",
    "print(\"El valor de my_interger es: \", my_interger)\n",
    "print(\"El tipo de dato de my_interger es: \", type(my_interger))"
   ]
  },
  {
   "cell_type": "code",
   "execution_count": 4,
   "id": "6b4a9133",
   "metadata": {},
   "outputs": [
    {
     "name": "stdout",
     "output_type": "stream",
     "text": [
      "El valor de my_interger es:  57831\n",
      "El tipo de dato de my_interger es:  <class 'int'>\n"
     ]
    }
   ],
   "source": [
    "my_interger = 57831\n",
    "print(\"El valor de my_interger es: \", my_interger)\n",
    "print(\"El tipo de dato de my_interger es: \", type(my_interger))"
   ]
  },
  {
   "cell_type": "code",
   "execution_count": 5,
   "id": "c693bb6d",
   "metadata": {},
   "outputs": [
    {
     "ename": "SyntaxError",
     "evalue": "invalid syntax (3170883395.py, line 2)",
     "output_type": "error",
     "traceback": [
      "\u001b[1;36m  File \u001b[1;32m\"C:\\Users\\Melanie\\AppData\\Local\\Temp\\ipykernel_988\\3170883395.py\"\u001b[1;36m, line \u001b[1;32m2\u001b[0m\n\u001b[1;33m    my_interger = 11d\u001b[0m\n\u001b[1;37m                    ^\u001b[0m\n\u001b[1;31mSyntaxError\u001b[0m\u001b[1;31m:\u001b[0m invalid syntax\n"
     ]
    }
   ],
   "source": [
    "# Error\n",
    "my_interger = 11d\n",
    "print(\"El valor de my_interger es: \", my_interger)\n",
    "print(\"El tipo de dato de my_interger es: \", type(my_interger))"
   ]
  },
  {
   "cell_type": "markdown",
   "id": "4884f2a6",
   "metadata": {},
   "source": [
    "# float = Float / Números con decimales"
   ]
  },
  {
   "cell_type": "code",
   "execution_count": 36,
   "id": "18d79daf",
   "metadata": {},
   "outputs": [
    {
     "name": "stdout",
     "output_type": "stream",
     "text": [
      "El valor de my_float es:  11.1\n",
      "El tipo de dato de my_float es:  <class 'float'>\n"
     ]
    }
   ],
   "source": [
    "my_float = 11.1\n",
    "print(\"El valor de my_float es: \", my_float)\n",
    "print(\"El tipo de dato de my_float es: \", type(my_float))"
   ]
  },
  {
   "cell_type": "code",
   "execution_count": 35,
   "id": "2165db4f",
   "metadata": {},
   "outputs": [
    {
     "name": "stdout",
     "output_type": "stream",
     "text": [
      "El valor de my_float es:  11.0\n",
      "El tipo de dato de my_float es:  <class 'float'>\n"
     ]
    }
   ],
   "source": [
    "my_float = 11.0\n",
    "print(\"El valor de my_float es: \", my_float)\n",
    "print(\"El tipo de dato de my_float es: \", type(my_float))"
   ]
  },
  {
   "cell_type": "code",
   "execution_count": 34,
   "id": "bd5b1a11",
   "metadata": {},
   "outputs": [
    {
     "name": "stdout",
     "output_type": "stream",
     "text": [
      "El valor de my_float es:  2000.0\n",
      "El tipo de dato de my_float es:  <class 'float'>\n"
     ]
    }
   ],
   "source": [
    "# notación científica\n",
    "my_float = 2e3  #2.0*10**3\n",
    "print(\"El valor de my_float es: \", my_float)\n",
    "print(\"El tipo de dato de my_float es: \", type(my_float))"
   ]
  },
  {
   "cell_type": "code",
   "execution_count": 11,
   "id": "faa92490",
   "metadata": {},
   "outputs": [
    {
     "data": {
      "text/plain": [
       "1.1"
      ]
     },
     "execution_count": 11,
     "metadata": {},
     "output_type": "execute_result"
    }
   ],
   "source": [
    "1.1"
   ]
  },
  {
   "cell_type": "code",
   "execution_count": 12,
   "id": "e6d00351",
   "metadata": {},
   "outputs": [
    {
     "data": {
      "text/plain": [
       "1.1"
      ]
     },
     "execution_count": 12,
     "metadata": {},
     "output_type": "execute_result"
    }
   ],
   "source": [
    "1.1e0  #1.1 * 10**0"
   ]
  },
  {
   "cell_type": "code",
   "execution_count": 14,
   "id": "fe641246",
   "metadata": {},
   "outputs": [
    {
     "data": {
      "text/plain": [
       "11.0"
      ]
     },
     "execution_count": 14,
     "metadata": {},
     "output_type": "execute_result"
    }
   ],
   "source": [
    "1.1e1  #1.1 * 10**1"
   ]
  },
  {
   "cell_type": "code",
   "execution_count": 15,
   "id": "5dcbad95",
   "metadata": {},
   "outputs": [
    {
     "data": {
      "text/plain": [
       "110.0"
      ]
     },
     "execution_count": 15,
     "metadata": {},
     "output_type": "execute_result"
    }
   ],
   "source": [
    "1.1e2  #1.1 * 10**2"
   ]
  },
  {
   "cell_type": "code",
   "execution_count": 16,
   "id": "efcd995e",
   "metadata": {},
   "outputs": [
    {
     "data": {
      "text/plain": [
       "1100.0"
      ]
     },
     "execution_count": 16,
     "metadata": {},
     "output_type": "execute_result"
    }
   ],
   "source": [
    "1.1e3  #1.1 * 10**3"
   ]
  },
  {
   "cell_type": "code",
   "execution_count": 17,
   "id": "e8330f2c",
   "metadata": {},
   "outputs": [
    {
     "data": {
      "text/plain": [
       "0.08"
      ]
     },
     "execution_count": 17,
     "metadata": {},
     "output_type": "execute_result"
    }
   ],
   "source": [
    "8e-2  #8 * 10**-2"
   ]
  },
  {
   "cell_type": "markdown",
   "id": "d9a869a5",
   "metadata": {},
   "source": [
    "# complex = Complex / Complejos (Números con una parte real y un imaginaria)\n",
    "\n",
    "complex = x + yj\n",
    "\n",
    "x = parte real\n",
    "\n",
    "yj= parte imaginaria"
   ]
  },
  {
   "cell_type": "code",
   "execution_count": 18,
   "id": "c689d695",
   "metadata": {},
   "outputs": [
    {
     "name": "stdout",
     "output_type": "stream",
     "text": [
      "El valor de my_interger es:  (3+9j)\n",
      "El tipo de dato de my_interger es:  <class 'complex'>\n"
     ]
    }
   ],
   "source": [
    "my_complex = 3 + 9j\n",
    "print(\"El valor de my_complex es: \", my_complex)\n",
    "print(\"El tipo de dato de my_complex es: \", type(my_complex))"
   ]
  },
  {
   "cell_type": "code",
   "execution_count": 33,
   "id": "81a71bfd",
   "metadata": {},
   "outputs": [
    {
     "name": "stdout",
     "output_type": "stream",
     "text": [
      "El valor de my_complex es:  (2+5j)\n",
      "El tipo de dato de my_complex es:  <class 'complex'>\n"
     ]
    }
   ],
   "source": [
    "my_complex = 2 + 5j\n",
    "print(\"El valor de my_complex es: \", my_complex)\n",
    "print(\"El tipo de dato de my_complex es: \", type(my_complex))"
   ]
  },
  {
   "cell_type": "markdown",
   "id": "9adb501f",
   "metadata": {},
   "source": [
    "# bool = Boolean (True/False) / Valores Lógicos (Verdadero/Falso)\n"
   ]
  },
  {
   "cell_type": "code",
   "execution_count": 32,
   "id": "a3e9ba39",
   "metadata": {},
   "outputs": [
    {
     "name": "stdout",
     "output_type": "stream",
     "text": [
      "El valor de my_boolean es:  False\n",
      "El tipo de dato de my_boolean es:  <class 'bool'>\n"
     ]
    }
   ],
   "source": [
    "my_boolean = False\n",
    "print(\"El valor de my_boolean es: \", my_boolean)\n",
    "print(\"El tipo de dato de my_boolean es: \", type(my_boolean))"
   ]
  },
  {
   "cell_type": "code",
   "execution_count": 31,
   "id": "7c24c135",
   "metadata": {},
   "outputs": [
    {
     "name": "stdout",
     "output_type": "stream",
     "text": [
      "El valor de my_boolean es:  True\n",
      "El tipo de dato de my_boolean es:  <class 'bool'>\n"
     ]
    }
   ],
   "source": [
    "my_boolean = True\n",
    "print(\"El valor de my_boolean es: \", my_boolean)\n",
    "print(\"El tipo de dato de my_boolean es: \", type(my_boolean))"
   ]
  },
  {
   "cell_type": "code",
   "execution_count": 22,
   "id": "b725dea4",
   "metadata": {},
   "outputs": [],
   "source": [
    "# True = 1\n",
    "# False = 0"
   ]
  },
  {
   "cell_type": "code",
   "execution_count": 23,
   "id": "89ef5b43",
   "metadata": {},
   "outputs": [
    {
     "name": "stdout",
     "output_type": "stream",
     "text": [
      "3\n"
     ]
    }
   ],
   "source": [
    "# 3\n",
    "print(True+True+True)"
   ]
  },
  {
   "cell_type": "code",
   "execution_count": 25,
   "id": "61eec366",
   "metadata": {},
   "outputs": [
    {
     "name": "stdout",
     "output_type": "stream",
     "text": [
      "0\n"
     ]
    }
   ],
   "source": [
    "# 0\n",
    "print(False+False+False)"
   ]
  },
  {
   "cell_type": "code",
   "execution_count": 26,
   "id": "4b436efe",
   "metadata": {},
   "outputs": [
    {
     "name": "stdout",
     "output_type": "stream",
     "text": [
      "2\n"
     ]
    }
   ],
   "source": [
    "# 2\n",
    "print(True+True+False)"
   ]
  },
  {
   "cell_type": "code",
   "execution_count": 27,
   "id": "262ebf67",
   "metadata": {},
   "outputs": [
    {
     "name": "stdout",
     "output_type": "stream",
     "text": [
      "1\n"
     ]
    }
   ],
   "source": [
    "# 1\n",
    "print(True-True+True)"
   ]
  },
  {
   "cell_type": "code",
   "execution_count": 28,
   "id": "1a43958b",
   "metadata": {},
   "outputs": [
    {
     "name": "stdout",
     "output_type": "stream",
     "text": [
      "-2\n"
     ]
    }
   ],
   "source": [
    "# -2\n",
    "print(False-True-True)"
   ]
  },
  {
   "cell_type": "markdown",
   "id": "82c56381",
   "metadata": {},
   "source": [
    "# str = Strings / Cadenas, Textos"
   ]
  },
  {
   "cell_type": "code",
   "execution_count": 30,
   "id": "e1b9d417",
   "metadata": {},
   "outputs": [
    {
     "name": "stdout",
     "output_type": "stream",
     "text": [
      "El valor de my_string es:  Backend Phyton\n",
      "El tipo de dato de my_string es:  <class 'str'>\n"
     ]
    }
   ],
   "source": [
    "my_string = \"Backend Phyton\"\n",
    "print(\"El valor de my_string es: \", my_string)\n",
    "print(\"El tipo de dato de my_string es: \", type(my_string))"
   ]
  },
  {
   "cell_type": "code",
   "execution_count": 37,
   "id": "a042973a",
   "metadata": {},
   "outputs": [
    {
     "name": "stdout",
     "output_type": "stream",
     "text": [
      "El valor de my_string es:  Curso de EBAC\n",
      "El tipo de dato de my_string es:  <class 'str'>\n"
     ]
    }
   ],
   "source": [
    "my_string = \"Curso de EBAC\"\n",
    "print(\"El valor de my_string es: \", my_string)\n",
    "print(\"El tipo de dato de my_string es: \", type(my_string))"
   ]
  },
  {
   "cell_type": "code",
   "execution_count": 38,
   "id": "62aed1ab",
   "metadata": {},
   "outputs": [
    {
     "name": "stdout",
     "output_type": "stream",
     "text": [
      "El valor de my_string es:  Aprendiendo a usar strings/cadenas/textos\n",
      "El tipo de dato de my_string es:  <class 'str'>\n"
     ]
    }
   ],
   "source": [
    "my_string = \"Aprendiendo a usar strings/cadenas/textos\"\n",
    "print(\"El valor de my_string es: \", my_string)\n",
    "print(\"El tipo de dato de my_string es: \", type(my_string))"
   ]
  },
  {
   "cell_type": "code",
   "execution_count": 39,
   "id": "d2532e3d",
   "metadata": {},
   "outputs": [
    {
     "ename": "SyntaxError",
     "evalue": "invalid syntax (18993320.py, line 1)",
     "output_type": "error",
     "traceback": [
      "\u001b[1;36m  File \u001b[1;32m\"C:\\Users\\Melanie\\AppData\\Local\\Temp\\ipykernel_988\\18993320.py\"\u001b[1;36m, line \u001b[1;32m1\u001b[0m\n\u001b[1;33m    my_string = 'You're amazing'\u001b[0m\n\u001b[1;37m                     ^\u001b[0m\n\u001b[1;31mSyntaxError\u001b[0m\u001b[1;31m:\u001b[0m invalid syntax\n"
     ]
    }
   ],
   "source": [
    "my_string = 'You're amazing'\n",
    "print(\"El valor de my_string es: \", my_string)\n",
    "print(\"El tipo de dato de my_string es: \", type(my_string))"
   ]
  },
  {
   "cell_type": "code",
   "execution_count": 40,
   "id": "0f790e0e",
   "metadata": {},
   "outputs": [
    {
     "name": "stdout",
     "output_type": "stream",
     "text": [
      "El valor de my_string es:  \n",
      "Es una cadena con múltiples líneas\n",
      "\n",
      "Como puedes ver es genial para textos más largos\n",
      "\n",
      "Puedes imaginar cuantas cosas podrías hacer manejando texto de Internet\n",
      "\n",
      "\n",
      "El tipo de dato de my_string es:  <class 'str'>\n"
     ]
    }
   ],
   "source": [
    "my_string = \"\"\"\n",
    "Es una cadena con múltiples líneas\\n\n",
    "Como puedes ver es genial para textos más largos\\n\n",
    "Puedes imaginar cuantas cosas podrías hacer manejando texto de Internet\\n\n",
    "\"\"\"\n",
    "print(\"El valor de my_string es: \", my_string)\n",
    "print(\"El tipo de dato de my_string es: \", type(my_string))"
   ]
  },
  {
   "cell_type": "markdown",
   "id": "90bf882c",
   "metadata": {},
   "source": [
    "# Variables\n",
    "\n",
    "### ¿Qué es una variable?\n",
    "- Son un espacio temporal para guardar un valor con un nombre específico\n",
    "- No hay necesidad de declarar el tipo de dato explícitamente\n",
    "- En Phyton es un lenguaje tipado dinámicamente, lo que quiere decir que el tipo de dato se define mientras corre el programa\n",
    "- Las variables en Phyton funcionan diferente que otros lenguajes de Programación\n",
    "- No necesitamos crear variable, solo asignamos un nombre a un valor usando el operador de asignación\n",
    "### Tipos de variables:\n",
    "- Variables Globales: Aquellas que se utilizarán para todo el programa\n",
    "- Variables Locales: Aquellas que se van a utilizar solo en un específico"
   ]
  },
  {
   "cell_type": "markdown",
   "id": "bba4ac05",
   "metadata": {},
   "source": [
    "# Variables Globales\n",
    "- Declaramos variables globales afuera de funciones\n",
    "- El valor de la variable puede ser constante todo el programa\n",
    "- Cualquier función podrá acceder a estas variables\n",
    "- Podemos decir que las variables GLOBALES tienen un alcance global\n",
    "- Normalmente son más usadas para constantes\n",
    "- Las variables Globales mantienen sus valores a través de la ejecución completa de tu programa\n",
    "- Una variable Global puede ser accesada por cualquier función"
   ]
  },
  {
   "cell_type": "code",
   "execution_count": 41,
   "id": "1a004cbe",
   "metadata": {},
   "outputs": [],
   "source": [
    "# Variable Global\n",
    "my_global_variable=50\n",
    "\n",
    "def my_function_1():\n",
    "    pass\n",
    "\n",
    "def my_function_2():\n",
    "    pass"
   ]
  },
  {
   "cell_type": "code",
   "execution_count": 42,
   "id": "cd6f3f06",
   "metadata": {},
   "outputs": [],
   "source": [
    "# Variables locales\n",
    "def my_function_1():\n",
    "    my_local_variable=5\n",
    "    \n",
    "def my_function_2():\n",
    "    my_local_variable=35   "
   ]
  },
  {
   "cell_type": "code",
   "execution_count": 44,
   "id": "b1569edd",
   "metadata": {},
   "outputs": [],
   "source": [
    "# Variable Global\n",
    "my_global_variable=50\n",
    "def my_function_1():\n",
    "    print(\"El valor de my_global_variable es: \", my_global_variable)\n",
    "\n",
    "def my_function_2():\n",
    "    print(\"El valor de my_global_variable2 es: \", my_global_variable)"
   ]
  },
  {
   "cell_type": "code",
   "execution_count": 45,
   "id": "7eb759d8",
   "metadata": {},
   "outputs": [
    {
     "name": "stdout",
     "output_type": "stream",
     "text": [
      "El valor de my_global_variable es:  50\n"
     ]
    }
   ],
   "source": [
    "my_function_1()"
   ]
  },
  {
   "cell_type": "code",
   "execution_count": 46,
   "id": "bea9de70",
   "metadata": {
    "scrolled": true
   },
   "outputs": [
    {
     "name": "stdout",
     "output_type": "stream",
     "text": [
      "El valor de my_global_variable2 es:  50\n"
     ]
    }
   ],
   "source": [
    "my_function_2()"
   ]
  },
  {
   "cell_type": "code",
   "execution_count": 49,
   "id": "98a4ea4c",
   "metadata": {},
   "outputs": [],
   "source": [
    "# Preferencia a la variable LOCAL antes que la GLOBAL\n",
    "my_variable=50 #Global\n",
    "\n",
    "def my_function_1():\n",
    "    my_variable=10 # Local\n",
    "    print(\"my_function_1 - El valor de my_variable es: \", my_variable)\n",
    "\n",
    "def my_function_2():\n",
    "    my_variable=20 #local\n",
    "    print(\"my_function_2 - El valor de my_variable es: \", my_variable)\n",
    "    \n",
    "def my_function_3():\n",
    "    print(\"my_function_3 - El valor de my_variable es: \", my_variable)"
   ]
  },
  {
   "cell_type": "code",
   "execution_count": 57,
   "id": "f1267c38",
   "metadata": {},
   "outputs": [
    {
     "name": "stdout",
     "output_type": "stream",
     "text": [
      "my_function_1 - El valor de my_variable es:  10\n"
     ]
    }
   ],
   "source": [
    "my_function_1()"
   ]
  },
  {
   "cell_type": "code",
   "execution_count": 51,
   "id": "62e48e8a",
   "metadata": {},
   "outputs": [
    {
     "name": "stdout",
     "output_type": "stream",
     "text": [
      "my_function_2 - El valor de my_variable es:  20\n"
     ]
    }
   ],
   "source": [
    "my_function_2()"
   ]
  },
  {
   "cell_type": "code",
   "execution_count": 1,
   "id": "08c5d077",
   "metadata": {},
   "outputs": [
    {
     "ename": "NameError",
     "evalue": "name 'my_function_3' is not defined",
     "output_type": "error",
     "traceback": [
      "\u001b[1;31m---------------------------------------------------------------------------\u001b[0m",
      "\u001b[1;31mNameError\u001b[0m                                 Traceback (most recent call last)",
      "\u001b[1;32m~\\AppData\\Local\\Temp\\ipykernel_8160\\2503501048.py\u001b[0m in \u001b[0;36m<module>\u001b[1;34m\u001b[0m\n\u001b[1;32m----> 1\u001b[1;33m \u001b[0mmy_function_3\u001b[0m\u001b[1;33m(\u001b[0m\u001b[1;33m)\u001b[0m\u001b[1;33m\u001b[0m\u001b[1;33m\u001b[0m\u001b[0m\n\u001b[0m",
      "\u001b[1;31mNameError\u001b[0m: name 'my_function_3' is not defined"
     ]
    }
   ],
   "source": [
    "my_function_3()"
   ]
  },
  {
   "cell_type": "markdown",
   "id": "0e409da1",
   "metadata": {},
   "source": [
    "# Variables Locales\n",
    "- Podemos usarlas dentro de una función\n",
    "- Podemos tener una restricción al acceder a una variable local desde otra función\n",
    "- No podemos usarlas durante todo el programa\n",
    "- El alcance y visibilidad se limita al interio de la función\n",
    "- Lo que dure la función será lo que dure el alcance de nuestra variable "
   ]
  },
  {
   "cell_type": "code",
   "execution_count": null,
   "id": "06d6f0ea",
   "metadata": {},
   "outputs": [],
   "source": [
    "# Variable Global\n",
    "my_global_variable=50\n",
    "\n",
    "def my_function_1():\n",
    "    pass\n",
    "\n",
    "def my_function_2():\n",
    "    pass"
   ]
  },
  {
   "cell_type": "code",
   "execution_count": 3,
   "id": "a8f35ad8",
   "metadata": {},
   "outputs": [],
   "source": [
    "# Variables locales\n",
    "def my_function_1():\n",
    "    my_local_variable=5\n",
    "    \n",
    "def my_function_2():\n",
    "    my_local_variable=35  "
   ]
  },
  {
   "cell_type": "code",
   "execution_count": 6,
   "id": "bb13bdce",
   "metadata": {},
   "outputs": [],
   "source": [
    "def my_function_1():\n",
    "    my_variable=10 # Local\n",
    "    print(\"my_function_1 - El valor de my_variable es: \", my_variable)\n",
    "\n",
    "def my_function_2():\n",
    "    my_variable=20 #local\n",
    "    print(\"my_function_2 - El valor de my_variable es: \", my_variable)\n",
    "    \n",
    "def my_function_3():\n",
    "    print(\"my_function_3 - El valor de my_variable es: \", my_variable)"
   ]
  },
  {
   "cell_type": "code",
   "execution_count": 11,
   "id": "cc4f2928",
   "metadata": {},
   "outputs": [
    {
     "name": "stdout",
     "output_type": "stream",
     "text": [
      "my_function_1 - El valor de my_variable es:  10\n"
     ]
    }
   ],
   "source": [
    "my_function_1()"
   ]
  },
  {
   "cell_type": "code",
   "execution_count": 12,
   "id": "4de7107f",
   "metadata": {},
   "outputs": [
    {
     "name": "stdout",
     "output_type": "stream",
     "text": [
      "my_function_2 - El valor de my_variable es:  20\n"
     ]
    }
   ],
   "source": [
    "my_function_2()"
   ]
  },
  {
   "cell_type": "code",
   "execution_count": 14,
   "id": "dd5d18cf",
   "metadata": {},
   "outputs": [
    {
     "data": {
      "text/plain": [
       "<function __main__.my_function_3()>"
      ]
     },
     "execution_count": 14,
     "metadata": {},
     "output_type": "execute_result"
    }
   ],
   "source": [
    "my_function_3"
   ]
  },
  {
   "cell_type": "markdown",
   "id": "0e8595bd",
   "metadata": {},
   "source": [
    "# Palabra reservada \"global\""
   ]
  },
  {
   "cell_type": "code",
   "execution_count": 7,
   "id": "712a2362",
   "metadata": {},
   "outputs": [],
   "source": [
    "def my_function_1():\n",
    "    my_variable=10 # Local\n",
    "    print(\"my_function_1 - El valor de my_variable es: \", my_variable)\n",
    "\n",
    "def my_function_2():\n",
    "    global my_variable    # GLOBAL\n",
    "    my_variable=20 #local\n",
    "    print(\"my_function_2 - El valor de my_variable es: \", my_variable)\n",
    "    \n",
    "def my_function_3():\n",
    "    print(\"my_function_3 - El valor de my_variable es: \", my_variable)"
   ]
  },
  {
   "cell_type": "code",
   "execution_count": 8,
   "id": "4bc2bce9",
   "metadata": {},
   "outputs": [
    {
     "name": "stdout",
     "output_type": "stream",
     "text": [
      "my_function_1 - El valor de my_variable es:  10\n"
     ]
    }
   ],
   "source": [
    "my_function_1()"
   ]
  },
  {
   "cell_type": "code",
   "execution_count": 9,
   "id": "7d8ed183",
   "metadata": {},
   "outputs": [
    {
     "name": "stdout",
     "output_type": "stream",
     "text": [
      "my_function_2 - El valor de my_variable es:  20\n"
     ]
    }
   ],
   "source": [
    "my_function_2()"
   ]
  },
  {
   "cell_type": "code",
   "execution_count": 10,
   "id": "14338aac",
   "metadata": {},
   "outputs": [
    {
     "name": "stdout",
     "output_type": "stream",
     "text": [
      "my_function_3 - El valor de my_variable es:  20\n"
     ]
    }
   ],
   "source": [
    "my_function_3()"
   ]
  },
  {
   "cell_type": "code",
   "execution_count": 15,
   "id": "1637eea5",
   "metadata": {},
   "outputs": [],
   "source": [
    "def my_function_1():\n",
    "    my_variable=10 # Local\n",
    "    print(\"my_function_1 - El valor de my_variable es: \", my_variable)\n",
    "\n",
    "def my_function_2():\n",
    "    global a, b, c, d, e    # GLOBAL\n",
    "    a= 10\n",
    "    b= 20\n",
    "    c= 30\n",
    "    d= 40\n",
    "    e= 50\n",
    "    print(\"my_function_2 - El valor de my_variable es: \", a)\n",
    "    print(\"my_function_2 - El valor de my_variable es: \", b)\n",
    "    print(\"my_function_2 - El valor de my_variable es: \", c)\n",
    "    print(\"my_function_2 - El valor de my_variable es: \", d)\n",
    "    print(\"my_function_2 - El valor de my_variable es: \", e)\n",
    "def my_function_3():\n",
    "    print(\"my_function_2 - El valor de my_variable es: \", a)\n",
    "    print(\"my_function_2 - El valor de my_variable es: \", b)\n",
    "    print(\"my_function_2 - El valor de my_variable es: \", c)\n",
    "    print(\"my_function_2 - El valor de my_variable es: \", d)\n",
    "    print(\"my_function_2 - El valor de my_variable es: \", e)"
   ]
  },
  {
   "cell_type": "code",
   "execution_count": 16,
   "id": "d48e71ca",
   "metadata": {},
   "outputs": [
    {
     "name": "stdout",
     "output_type": "stream",
     "text": [
      "my_function_1 - El valor de my_variable es:  10\n"
     ]
    }
   ],
   "source": [
    "my_function_1()"
   ]
  },
  {
   "cell_type": "code",
   "execution_count": 17,
   "id": "f334ea9a",
   "metadata": {},
   "outputs": [
    {
     "name": "stdout",
     "output_type": "stream",
     "text": [
      "my_function_2 - El valor de my_variable es:  10\n",
      "my_function_2 - El valor de my_variable es:  20\n",
      "my_function_2 - El valor de my_variable es:  30\n",
      "my_function_2 - El valor de my_variable es:  40\n",
      "my_function_2 - El valor de my_variable es:  50\n"
     ]
    }
   ],
   "source": [
    "my_function_2()"
   ]
  },
  {
   "cell_type": "code",
   "execution_count": 18,
   "id": "02f15acd",
   "metadata": {},
   "outputs": [
    {
     "name": "stdout",
     "output_type": "stream",
     "text": [
      "my_function_2 - El valor de my_variable es:  10\n",
      "my_function_2 - El valor de my_variable es:  20\n",
      "my_function_2 - El valor de my_variable es:  30\n",
      "my_function_2 - El valor de my_variable es:  40\n",
      "my_function_2 - El valor de my_variable es:  50\n"
     ]
    }
   ],
   "source": [
    "my_function_3()"
   ]
  },
  {
   "cell_type": "markdown",
   "id": "dd936cc5",
   "metadata": {},
   "source": [
    "# Tipos de Enteros\n",
    "- Forma DECIMAL\n",
    "- Forma BINARIA\n",
    "- Forma OCTAL\n",
    "- Forma HEXADECIMAL\n"
   ]
  },
  {
   "cell_type": "markdown",
   "id": "177af80e",
   "metadata": {},
   "source": [
    "# FORMA DECIMAL"
   ]
  },
  {
   "cell_type": "code",
   "execution_count": 19,
   "id": "46131af5",
   "metadata": {},
   "outputs": [
    {
     "name": "stdout",
     "output_type": "stream",
     "text": [
      "El valor de my_decimal_number es:  55\n"
     ]
    }
   ],
   "source": [
    "my_decimal_number = 55\n",
    "print (\"El valor de my_decimal_number es: \", my_decimal_number)"
   ]
  },
  {
   "cell_type": "code",
   "execution_count": 20,
   "id": "9b8667de",
   "metadata": {},
   "outputs": [
    {
     "name": "stdout",
     "output_type": "stream",
     "text": [
      "El valor de my_decimal_number es:  5548947584965561\n"
     ]
    }
   ],
   "source": [
    "my_decimal_number = 5548947584965561\n",
    "print (\"El valor de my_decimal_number es: \", my_decimal_number)"
   ]
  },
  {
   "cell_type": "code",
   "execution_count": 21,
   "id": "92dc9d75",
   "metadata": {},
   "outputs": [
    {
     "ename": "SyntaxError",
     "evalue": "invalid syntax (2865110334.py, line 2)",
     "output_type": "error",
     "traceback": [
      "\u001b[1;36m  File \u001b[1;32m\"C:\\Users\\Melanie\\AppData\\Local\\Temp\\ipykernel_10536\\2865110334.py\"\u001b[1;36m, line \u001b[1;32m2\u001b[0m\n\u001b[1;33m    my_decimal_number = 55d\u001b[0m\n\u001b[1;37m                          ^\u001b[0m\n\u001b[1;31mSyntaxError\u001b[0m\u001b[1;31m:\u001b[0m invalid syntax\n"
     ]
    }
   ],
   "source": [
    "# ERROR\n",
    "my_decimal_number = 55d\n",
    "print (\"El valor de my_decimal_number es: \", my_decimal_number)"
   ]
  },
  {
   "cell_type": "code",
   "execution_count": 22,
   "id": "0086f0ce",
   "metadata": {},
   "outputs": [
    {
     "ename": "SyntaxError",
     "evalue": "invalid syntax (2925904998.py, line 1)",
     "output_type": "error",
     "traceback": [
      "\u001b[1;36m  File \u001b[1;32m\"C:\\Users\\Melanie\\AppData\\Local\\Temp\\ipykernel_10536\\2925904998.py\"\u001b[1;36m, line \u001b[1;32m1\u001b[0m\n\u001b[1;33m    my_decimal_number = 55@\u001b[0m\n\u001b[1;37m                           ^\u001b[0m\n\u001b[1;31mSyntaxError\u001b[0m\u001b[1;31m:\u001b[0m invalid syntax\n"
     ]
    }
   ],
   "source": [
    "my_decimal_number = 55@\n",
    "print (\"El valor de my_decimal_number es: \", my_decimal_number)"
   ]
  },
  {
   "cell_type": "markdown",
   "id": "9641dd63",
   "metadata": {},
   "source": [
    "# FORMA BINARIA\n",
    "- Código organizado en bytes\n",
    "- Lenguaje binario\n",
    "- Lenguaje de las Máquinas (1 y 0)\n",
    "\n",
    "## Valor Base: 2\n",
    "\n",
    "- Solamente acepta dos dígitos (1 y 0) \n",
    "- Usamos el prefijo \"0b\" o \"0B\"  "
   ]
  },
  {
   "cell_type": "code",
   "execution_count": 23,
   "id": "d9108b07",
   "metadata": {},
   "outputs": [
    {
     "name": "stdout",
     "output_type": "stream",
     "text": [
      "El valor de my_decimal_number es:  3\n"
     ]
    }
   ],
   "source": [
    "my_binary_number = 0b11 # 1*2**1 + 1*2**0\n",
    "print (\"El valor de my_decimal_number es: \", my_binary_number)"
   ]
  },
  {
   "cell_type": "code",
   "execution_count": 24,
   "id": "7ddb8f88",
   "metadata": {},
   "outputs": [
    {
     "name": "stdout",
     "output_type": "stream",
     "text": [
      "El valor de my_decimal_number es:  111\n"
     ]
    }
   ],
   "source": [
    "my_decimal_number = 111\n",
    "print (\"El valor de my_decimal_number es: \", my_decimal_number)"
   ]
  },
  {
   "cell_type": "code",
   "execution_count": 25,
   "id": "f23a122d",
   "metadata": {},
   "outputs": [
    {
     "name": "stdout",
     "output_type": "stream",
     "text": [
      "El valor de my_decimal_number es:  7\n"
     ]
    }
   ],
   "source": [
    "my_binary_number = 0b111 #1*2**2 + 1*2**1 + 1*2**0\n",
    "print (\"El valor de my_decimal_number es: \", my_binary_number)"
   ]
  },
  {
   "cell_type": "markdown",
   "id": "2cfb1feb",
   "metadata": {},
   "source": [
    "# FORMA OCTAL\n",
    "\n",
    "### Valor base: 8\n",
    "- Solamente acepta dígitos del 0 al 7\n",
    "- Usamos el prefijo \"0o\" o \"0O\""
   ]
  },
  {
   "cell_type": "code",
   "execution_count": 30,
   "id": "f1d9356f",
   "metadata": {},
   "outputs": [
    {
     "name": "stdout",
     "output_type": "stream",
     "text": [
      "El valor de my_decimal_number es:  17\n"
     ]
    }
   ],
   "source": [
    "my_decimal_number = 17\n",
    "print (\"El valor de my_decimal_number es: \", my_decimal_number)"
   ]
  },
  {
   "cell_type": "code",
   "execution_count": 28,
   "id": "90cae6eb",
   "metadata": {},
   "outputs": [
    {
     "name": "stdout",
     "output_type": "stream",
     "text": [
      "El valor de my_octal_number es:  15\n"
     ]
    }
   ],
   "source": [
    "my_octal_number = 0o17 # 1*8**1 + 7*8**0\n",
    "print (\"El valor de my_octal_number es: \", my_octal_number)"
   ]
  },
  {
   "cell_type": "code",
   "execution_count": 31,
   "id": "7c6da91e",
   "metadata": {},
   "outputs": [
    {
     "name": "stdout",
     "output_type": "stream",
     "text": [
      "El valor de my_octal_number es:  15\n"
     ]
    }
   ],
   "source": [
    "my_octal_number = 0o17 # 1*8**1 + 7*8**0\n",
    "print (\"El valor de my_octal_number es: \", my_octal_number)"
   ]
  },
  {
   "cell_type": "code",
   "execution_count": 32,
   "id": "87b512d9",
   "metadata": {},
   "outputs": [
    {
     "name": "stdout",
     "output_type": "stream",
     "text": [
      "El valor de my_decimal_number es:  153\n"
     ]
    }
   ],
   "source": [
    "my_decimal_number = 153\n",
    "print (\"El valor de my_decimal_number es: \", my_decimal_number)"
   ]
  },
  {
   "cell_type": "code",
   "execution_count": 33,
   "id": "d86802b5",
   "metadata": {},
   "outputs": [
    {
     "name": "stdout",
     "output_type": "stream",
     "text": [
      "El valor de my_octal_number es:  107\n"
     ]
    }
   ],
   "source": [
    "my_octal_number = 0O153  # 1*8**2 + 5*8**1 + 3*8**0\n",
    "print (\"El valor de my_octal_number es: \", my_octal_number)"
   ]
  },
  {
   "cell_type": "markdown",
   "id": "5bf5c4b1",
   "metadata": {},
   "source": [
    "# FORMA HEXADECIMAL\n",
    "\n",
    "### Valor Base: 16\n",
    "- Acepta dígitos del 0 al 9\n",
    "- Aceptar letras de la \"a/A\" a la \"f/F\"\n",
    "- Usamos el prefijo \"Ox\" o \"0O\"\n",
    "- 0\n",
    "- 1\n",
    "- 2\n",
    "- 3\n",
    "- 4\n",
    "- 5\n",
    "- 6\n",
    "- 7\n",
    "- 8\n",
    "- 9\n",
    "- A = 10\n",
    "- B = 11\n",
    "- C = 12\n",
    "- D = 13\n",
    "- E = 14\n",
    "- F = 15\n"
   ]
  },
  {
   "cell_type": "code",
   "execution_count": 35,
   "id": "0fdd2231",
   "metadata": {},
   "outputs": [
    {
     "name": "stdout",
     "output_type": "stream",
     "text": [
      "El valor de my_decimal_number es:  17\n"
     ]
    }
   ],
   "source": [
    "my_decimal_number = 17\n",
    "print (\"El valor de my_decimal_number es: \", my_decimal_number)"
   ]
  },
  {
   "cell_type": "code",
   "execution_count": 36,
   "id": "6925c27d",
   "metadata": {},
   "outputs": [
    {
     "name": "stdout",
     "output_type": "stream",
     "text": [
      "El valor de my_hex_number es:  23\n"
     ]
    }
   ],
   "source": [
    "my_hex_number = 0X17 # 1*16**1 + 7*16**0\n",
    "print (\"El valor de my_hex_number es: \", my_hex_number)"
   ]
  },
  {
   "cell_type": "code",
   "execution_count": 37,
   "id": "d13bf2de",
   "metadata": {},
   "outputs": [
    {
     "name": "stdout",
     "output_type": "stream",
     "text": [
      "El valor de my_hex_number es:  28\n"
     ]
    }
   ],
   "source": [
    "my_hex_number = 0X1C # 1*16**1 + 12*16**0\n",
    "print (\"El valor de my_hex_number es: \", my_hex_number)"
   ]
  },
  {
   "cell_type": "code",
   "execution_count": null,
   "id": "90d74043",
   "metadata": {},
   "outputs": [],
   "source": []
  }
 ],
 "metadata": {
  "kernelspec": {
   "display_name": "Python 3 (ipykernel)",
   "language": "python",
   "name": "python3"
  },
  "language_info": {
   "codemirror_mode": {
    "name": "ipython",
    "version": 3
   },
   "file_extension": ".py",
   "mimetype": "text/x-python",
   "name": "python",
   "nbconvert_exporter": "python",
   "pygments_lexer": "ipython3",
   "version": "3.9.13"
  }
 },
 "nbformat": 4,
 "nbformat_minor": 5
}
