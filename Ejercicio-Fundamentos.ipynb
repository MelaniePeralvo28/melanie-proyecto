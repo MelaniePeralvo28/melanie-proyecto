{
 "cells": [
  {
   "cell_type": "code",
   "execution_count": 1,
   "id": "ff69876f",
   "metadata": {},
   "outputs": [
    {
     "name": "stdout",
     "output_type": "stream",
     "text": [
      "Ingrese un número entero: 8\n",
      "<class 'int'>\n",
      "Ingrese su nombre y apellido Melanie Peralvo\n",
      "<class 'str'>\n",
      "Ingrese un número con decimales 9.6\n",
      "<class 'float'>\n"
     ]
    }
   ],
   "source": [
    "my_number = int(input(\"Ingrese un número entero: \"))\n",
    "print(type(my_number))\n",
    "##############\n",
    "my_name = input(\"Ingrese su nombre y apellido \")\n",
    "print(type(my_name))\n",
    "##############\n",
    "my_number = float(input(\"Ingrese un número con decimales \"))\n",
    "print(type(my_number))"
   ]
  },
  {
   "cell_type": "code",
   "execution_count": null,
   "id": "a9aab53e",
   "metadata": {},
   "outputs": [],
   "source": []
  }
 ],
 "metadata": {
  "kernelspec": {
   "display_name": "Python 3 (ipykernel)",
   "language": "python",
   "name": "python3"
  },
  "language_info": {
   "codemirror_mode": {
    "name": "ipython",
    "version": 3
   },
   "file_extension": ".py",
   "mimetype": "text/x-python",
   "name": "python",
   "nbconvert_exporter": "python",
   "pygments_lexer": "ipython3",
   "version": "3.9.13"
  }
 },
 "nbformat": 4,
 "nbformat_minor": 5
}
