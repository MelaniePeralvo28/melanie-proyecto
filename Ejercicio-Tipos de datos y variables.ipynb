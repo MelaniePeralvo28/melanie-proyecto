{
 "cells": [
  {
   "cell_type": "code",
   "execution_count": 8,
   "id": "d1099a6d",
   "metadata": {},
   "outputs": [
    {
     "name": "stdout",
     "output_type": "stream",
     "text": [
      "Seleccione una operación (suma, resta, multiplicación, división o potencia): potencia\n",
      "Ingrese el primer número: 0x3\n",
      "Ingrese el segundo número: 0x2\n",
      "Número 1: 3\n",
      "Número 2: 2\n",
      "Operación: potencia\n",
      "Resultado: 9\n"
     ]
    }
   ],
   "source": [
    "# Pidiendo al usuario la operación deseada\n",
    "operacion = input(\"Seleccione una operación (suma, resta, multiplicación, división o potencia): \")\n",
    "\n",
    "# Pidiendo al usuario los dos números\n",
    "num1 = input(\"Ingrese el primer número: \")\n",
    "num2 = input(\"Ingrese el segundo número: \")\n",
    "\n",
    "# Convirtiendo los números a base 10 si están en binario, octal o hexadecimal\n",
    "if 'b' in num1 or 'o' in num1 or 'x' in num1:\n",
    "    num1 = int(num1, 0)\n",
    "if 'b' in num2 or 'o' in num2 or 'x' in num2:\n",
    "    num2 = int(num2, 0)\n",
    "\n",
    "# Realizando la operación correspondiente\n",
    "if operacion == \"suma\":\n",
    "    resultado = num1 + num2\n",
    "elif operacion == \"resta\":\n",
    "    resultado = num1 - num2\n",
    "elif operacion == \"multiplicación\":\n",
    "    resultado = num1 * num2\n",
    "elif operacion == \"división\":\n",
    "    resultado = num1 / num2\n",
    "elif operacion == \"potencia\":\n",
    "    resultado = num1 ** num2\n",
    "else:\n",
    "    resultado = \"Operación no válida\"\n",
    "\n",
    "# Imprimiendo los valores de entrada y el resultado\n",
    "print(\"Número 1:\", num1)\n",
    "print(\"Número 2:\", num2)\n",
    "print(\"Operación:\", operacion)\n",
    "print(\"Resultado:\", resultado)"
   ]
  },
  {
   "cell_type": "code",
   "execution_count": null,
   "id": "46ebcdab",
   "metadata": {},
   "outputs": [],
   "source": []
  }
 ],
 "metadata": {
  "kernelspec": {
   "display_name": "Python 3 (ipykernel)",
   "language": "python",
   "name": "python3"
  },
  "language_info": {
   "codemirror_mode": {
    "name": "ipython",
    "version": 3
   },
   "file_extension": ".py",
   "mimetype": "text/x-python",
   "name": "python",
   "nbconvert_exporter": "python",
   "pygments_lexer": "ipython3",
   "version": "3.9.13"
  }
 },
 "nbformat": 4,
 "nbformat_minor": 5
}
