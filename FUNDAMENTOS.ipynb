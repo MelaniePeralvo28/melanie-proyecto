{
 "cells": [
  {
   "cell_type": "markdown",
   "id": "9efbdf46",
   "metadata": {},
   "source": [
    "## Phyton distingue entre masyúsculas y minúsculas"
   ]
  },
  {
   "cell_type": "code",
   "execution_count": 4,
   "id": "722b6019",
   "metadata": {},
   "outputs": [
    {
     "name": "stdout",
     "output_type": "stream",
     "text": [
      "El curso es: Backend Phyton\n"
     ]
    }
   ],
   "source": [
    "A= \"Backend Phyton\"\n",
    "print (\"El curso es:\" , A )"
   ]
  },
  {
   "cell_type": "code",
   "execution_count": 9,
   "id": "7cbaecac",
   "metadata": {
    "scrolled": true
   },
   "outputs": [
    {
     "name": "stdout",
     "output_type": "stream",
     "text": [
      "El curso es: Backend Phyton\n"
     ]
    }
   ],
   "source": [
    "a= \"Backend Phyton\"\n",
    "print (\"El curso es:\" , a )"
   ]
  },
  {
   "cell_type": "markdown",
   "id": "a467704d",
   "metadata": {},
   "source": [
    "## Palabras Reservadas en Phyton"
   ]
  },
  {
   "cell_type": "code",
   "execution_count": 10,
   "id": "8aed5c1e",
   "metadata": {},
   "outputs": [
    {
     "name": "stdout",
     "output_type": "stream",
     "text": [
      "\n",
      "Here is a list of the Python keywords.  Enter any keyword to get more help.\n",
      "\n",
      "False               break               for                 not\n",
      "None                class               from                or\n",
      "True                continue            global              pass\n",
      "__peg_parser__      def                 if                  raise\n",
      "and                 del                 import              return\n",
      "as                  elif                in                  try\n",
      "assert              else                is                  while\n",
      "async               except              lambda              with\n",
      "await               finally             nonlocal            yield\n",
      "\n"
     ]
    }
   ],
   "source": [
    "help (\"keywords\")"
   ]
  },
  {
   "cell_type": "markdown",
   "id": "260433a4",
   "metadata": {},
   "source": [
    "## Caracteres de Escape en Phyton"
   ]
  },
  {
   "cell_type": "code",
   "execution_count": 12,
   "id": "7342303b",
   "metadata": {},
   "outputs": [
    {
     "data": {
      "text/plain": [
       "\"'\""
      ]
     },
     "execution_count": 12,
     "metadata": {},
     "output_type": "execute_result"
    }
   ],
   "source": [
    "\"\\'\" #Comilla sencilla"
   ]
  },
  {
   "cell_type": "code",
   "execution_count": 13,
   "id": "2af7acca",
   "metadata": {},
   "outputs": [
    {
     "data": {
      "text/plain": [
       "'\"'"
      ]
     },
     "execution_count": 13,
     "metadata": {},
     "output_type": "execute_result"
    }
   ],
   "source": [
    "\"\\\"\" #Comilla doble"
   ]
  },
  {
   "cell_type": "code",
   "execution_count": 14,
   "id": "f15debea",
   "metadata": {},
   "outputs": [
    {
     "data": {
      "text/plain": [
       "'\\n'"
      ]
     },
     "execution_count": 14,
     "metadata": {},
     "output_type": "execute_result"
    }
   ],
   "source": [
    "\"\\n\" #Salto de linea"
   ]
  },
  {
   "cell_type": "code",
   "execution_count": 17,
   "id": "31e59c92",
   "metadata": {},
   "outputs": [
    {
     "name": "stdout",
     "output_type": "stream",
     "text": [
      "Backend Phyton\n",
      "de Ebac\n"
     ]
    }
   ],
   "source": [
    "mi_curso = \"Backend Phyton\\nde Ebac\"\n",
    "print(mi_curso)"
   ]
  },
  {
   "cell_type": "code",
   "execution_count": 18,
   "id": "65be21c4",
   "metadata": {},
   "outputs": [
    {
     "name": "stdout",
     "output_type": "stream",
     "text": [
      "Backend\n",
      "Phyton\n",
      "de Ebac\n"
     ]
    }
   ],
   "source": [
    "mi_curso = \"Backend\\nPhyton\\nde Ebac\"\n",
    "print(mi_curso)"
   ]
  },
  {
   "cell_type": "code",
   "execution_count": 19,
   "id": "b11b2bac",
   "metadata": {},
   "outputs": [
    {
     "data": {
      "text/plain": [
       "'\\t'"
      ]
     },
     "execution_count": 19,
     "metadata": {},
     "output_type": "execute_result"
    }
   ],
   "source": [
    "\"\\t\" #Tab"
   ]
  },
  {
   "cell_type": "code",
   "execution_count": 20,
   "id": "768dee21",
   "metadata": {},
   "outputs": [
    {
     "name": "stdout",
     "output_type": "stream",
     "text": [
      "Backend Phyton\tde Ebac\n"
     ]
    }
   ],
   "source": [
    "mi_curso = \"Backend Phyton\\tde Ebac\"\n",
    "print(mi_curso)"
   ]
  },
  {
   "cell_type": "code",
   "execution_count": 21,
   "id": "a0b0a4d3",
   "metadata": {},
   "outputs": [
    {
     "name": "stdout",
     "output_type": "stream",
     "text": [
      "Backend\tPhyton\tde Ebac\n"
     ]
    }
   ],
   "source": [
    "mi_curso = \"Backend\\tPhyton\\tde Ebac\"\n",
    "print(mi_curso)"
   ]
  },
  {
   "cell_type": "code",
   "execution_count": 22,
   "id": "54bd0f5d",
   "metadata": {},
   "outputs": [
    {
     "data": {
      "text/plain": [
       "'\\r'"
      ]
     },
     "execution_count": 22,
     "metadata": {},
     "output_type": "execute_result"
    }
   ],
   "source": [
    "\"\\r\" #Retorno de carro"
   ]
  },
  {
   "cell_type": "code",
   "execution_count": 23,
   "id": "c77ad0ba",
   "metadata": {},
   "outputs": [
    {
     "name": "stdout",
     "output_type": "stream",
     "text": [
      "Backend\r",
      "Phyton de Ebac\n"
     ]
    }
   ],
   "source": [
    "mi_curso = \"Backend\\rPhyton de Ebac\"\n",
    "print(mi_curso)"
   ]
  },
  {
   "cell_type": "code",
   "execution_count": 24,
   "id": "02bb9a80",
   "metadata": {},
   "outputs": [
    {
     "name": "stdout",
     "output_type": "stream",
     "text": [
      "Backend\r",
      "Phyton\r",
      "de Ebac\n"
     ]
    }
   ],
   "source": [
    "mi_curso = \"Backend\\rPhyton\\rde Ebac\"\n",
    "print(mi_curso)"
   ]
  },
  {
   "cell_type": "code",
   "execution_count": 25,
   "id": "14f41a5c",
   "metadata": {},
   "outputs": [
    {
     "data": {
      "text/plain": [
       "'\\x08'"
      ]
     },
     "execution_count": 25,
     "metadata": {},
     "output_type": "execute_result"
    }
   ],
   "source": [
    "\"\\b\" #Retorno"
   ]
  },
  {
   "cell_type": "code",
   "execution_count": 27,
   "id": "2099204a",
   "metadata": {},
   "outputs": [
    {
     "name": "stdout",
     "output_type": "stream",
     "text": [
      "Backend\bPhyton\bde Ebac\n"
     ]
    }
   ],
   "source": [
    "mi_curso = \"Backend\\bPhyton\\bde Ebac\"\n",
    "# va a eliminar la d y la n\n",
    "print(mi_curso)"
   ]
  },
  {
   "cell_type": "code",
   "execution_count": 28,
   "id": "26c05996",
   "metadata": {},
   "outputs": [
    {
     "data": {
      "text/plain": [
       "'\\\\ooo'"
      ]
     },
     "execution_count": 28,
     "metadata": {},
     "output_type": "execute_result"
    }
   ],
   "source": [
    "\"\\ooo\" #Octal"
   ]
  },
  {
   "cell_type": "code",
   "execution_count": 29,
   "id": "cdcf947d",
   "metadata": {},
   "outputs": [
    {
     "name": "stdout",
     "output_type": "stream",
     "text": [
      "Hola\n"
     ]
    }
   ],
   "source": [
    "hello_spanish_octal = \"\\110\\157\\154\\141\"\n",
    "print(hello_spanish_octal)"
   ]
  },
  {
   "cell_type": "code",
   "execution_count": 31,
   "id": "33e61400",
   "metadata": {},
   "outputs": [],
   "source": [
    "#\"\\xhh\" Hexadecimal"
   ]
  },
  {
   "cell_type": "code",
   "execution_count": 33,
   "id": "c3be48e4",
   "metadata": {},
   "outputs": [
    {
     "name": "stdout",
     "output_type": "stream",
     "text": [
      "Hola\n"
     ]
    }
   ],
   "source": [
    "hello_spanish_hex = \"\\x48\\x6f\\x6c\\x61\"\n",
    "print(hello_spanish_hex)"
   ]
  },
  {
   "cell_type": "markdown",
   "id": "6bee00b3",
   "metadata": {},
   "source": [
    "## Funcion eval()"
   ]
  },
  {
   "cell_type": "code",
   "execution_count": 35,
   "id": "1155827b",
   "metadata": {},
   "outputs": [
    {
     "name": "stdout",
     "output_type": "stream",
     "text": [
      "my_number+1000\n"
     ]
    }
   ],
   "source": [
    "my_number = 22\n",
    "print(\"my_number+1000\")"
   ]
  },
  {
   "cell_type": "code",
   "execution_count": 36,
   "id": "8baf555b",
   "metadata": {},
   "outputs": [
    {
     "name": "stdout",
     "output_type": "stream",
     "text": [
      "1022\n"
     ]
    }
   ],
   "source": [
    "my_number = 22\n",
    "print(eval(\"my_number+1000\"))"
   ]
  },
  {
   "cell_type": "code",
   "execution_count": 38,
   "id": "36968e7b",
   "metadata": {},
   "outputs": [
    {
     "name": "stdout",
     "output_type": "stream",
     "text": [
      "ingresa un número 123\n"
     ]
    }
   ],
   "source": [
    "my_input = input (\"ingresa un número\")"
   ]
  },
  {
   "cell_type": "code",
   "execution_count": 39,
   "id": "965f2693",
   "metadata": {},
   "outputs": [
    {
     "data": {
      "text/plain": [
       "' 123'"
      ]
     },
     "execution_count": 39,
     "metadata": {},
     "output_type": "execute_result"
    }
   ],
   "source": [
    "my_input"
   ]
  },
  {
   "cell_type": "code",
   "execution_count": 40,
   "id": "59b0c25d",
   "metadata": {},
   "outputs": [
    {
     "data": {
      "text/plain": [
       "123"
      ]
     },
     "execution_count": 40,
     "metadata": {},
     "output_type": "execute_result"
    }
   ],
   "source": [
    "eval(my_input)"
   ]
  },
  {
   "cell_type": "code",
   "execution_count": 41,
   "id": "dc3b945b",
   "metadata": {},
   "outputs": [
    {
     "name": "stdout",
     "output_type": "stream",
     "text": [
      "ingresa un número 345\n",
      " 345\n",
      "<class 'str'>\n"
     ]
    }
   ],
   "source": [
    "my_input = input (\"ingresa un número\")\n",
    "print(my_input)\n",
    "print(type(my_input))\n",
    "# Cadena / String"
   ]
  },
  {
   "cell_type": "code",
   "execution_count": 42,
   "id": "7788cd5b",
   "metadata": {},
   "outputs": [
    {
     "name": "stdout",
     "output_type": "stream",
     "text": [
      "ingresa un número456\n",
      "456\n",
      "<class 'int'>\n"
     ]
    }
   ],
   "source": [
    "my_input = eval(input (\"ingresa un número\"))\n",
    "print(my_input)\n",
    "print(type(my_input))\n",
    "# Entero / Int"
   ]
  },
  {
   "cell_type": "markdown",
   "id": "b28540ee",
   "metadata": {},
   "source": [
    "## Función range () y xrange ()"
   ]
  },
  {
   "cell_type": "markdown",
   "id": "84340371",
   "metadata": {},
   "source": [
    "####range (start, stop, step)"
   ]
  },
  {
   "cell_type": "code",
   "execution_count": 43,
   "id": "78f78576",
   "metadata": {},
   "outputs": [],
   "source": [
    "x = range (10)"
   ]
  },
  {
   "cell_type": "code",
   "execution_count": 44,
   "id": "35289bcb",
   "metadata": {},
   "outputs": [
    {
     "data": {
      "text/plain": [
       "range(0, 10)"
      ]
     },
     "execution_count": 44,
     "metadata": {},
     "output_type": "execute_result"
    }
   ],
   "source": [
    "x"
   ]
  },
  {
   "cell_type": "code",
   "execution_count": 45,
   "id": "42dcbf0f",
   "metadata": {},
   "outputs": [
    {
     "name": "stdout",
     "output_type": "stream",
     "text": [
      "0\n",
      "1\n",
      "2\n",
      "3\n",
      "4\n",
      "5\n",
      "6\n",
      "7\n",
      "8\n",
      "9\n"
     ]
    }
   ],
   "source": [
    "for number in x:\n",
    "    print(number)"
   ]
  },
  {
   "cell_type": "code",
   "execution_count": 48,
   "id": "a492c37f",
   "metadata": {},
   "outputs": [
    {
     "name": "stdout",
     "output_type": "stream",
     "text": [
      "3\n",
      "4\n",
      "5\n"
     ]
    }
   ],
   "source": [
    "x = range (3,6)\n",
    "for number in x:\n",
    "    print(number)"
   ]
  },
  {
   "cell_type": "code",
   "execution_count": 49,
   "id": "2cf67d98",
   "metadata": {},
   "outputs": [
    {
     "name": "stdout",
     "output_type": "stream",
     "text": [
      "3\n",
      "5\n",
      "7\n",
      "9\n",
      "11\n",
      "13\n",
      "15\n",
      "17\n",
      "19\n"
     ]
    }
   ],
   "source": [
    "x = range(3,20,2)\n",
    "for number in x:\n",
    "    print(number)"
   ]
  },
  {
   "cell_type": "markdown",
   "id": "16b34332",
   "metadata": {},
   "source": [
    "## Mutabilidad e Inmutabilidad"
   ]
  },
  {
   "cell_type": "code",
   "execution_count": 50,
   "id": "213f61fa",
   "metadata": {},
   "outputs": [],
   "source": [
    "tuple = (1,2,3,4,5)"
   ]
  },
  {
   "cell_type": "code",
   "execution_count": 51,
   "id": "1f647072",
   "metadata": {},
   "outputs": [
    {
     "data": {
      "text/plain": [
       "(1, 2, 3, 4, 5)"
      ]
     },
     "execution_count": 51,
     "metadata": {},
     "output_type": "execute_result"
    }
   ],
   "source": [
    "tuple"
   ]
  },
  {
   "cell_type": "code",
   "execution_count": 60,
   "id": "8b970061",
   "metadata": {},
   "outputs": [
    {
     "ename": "TypeError",
     "evalue": "'tuple' object does not support item assignment",
     "output_type": "error",
     "traceback": [
      "\u001b[1;31m---------------------------------------------------------------------------\u001b[0m",
      "\u001b[1;31mTypeError\u001b[0m                                 Traceback (most recent call last)",
      "\u001b[1;32m~\\AppData\\Local\\Temp\\ipykernel_1848\\4007438567.py\u001b[0m in \u001b[0;36m<module>\u001b[1;34m\u001b[0m\n\u001b[0;32m      1\u001b[0m \u001b[1;31m# Inmutabilidad\u001b[0m\u001b[1;33m\u001b[0m\u001b[1;33m\u001b[0m\u001b[0m\n\u001b[1;32m----> 2\u001b[1;33m \u001b[0mtuple\u001b[0m \u001b[1;33m[\u001b[0m\u001b[1;36m0\u001b[0m\u001b[1;33m]\u001b[0m \u001b[1;33m=\u001b[0m \u001b[1;36m10\u001b[0m\u001b[1;33m\u001b[0m\u001b[1;33m\u001b[0m\u001b[0m\n\u001b[0m",
      "\u001b[1;31mTypeError\u001b[0m: 'tuple' object does not support item assignment"
     ]
    }
   ],
   "source": [
    "# Inmutabilidad\n",
    "tuple [0] = 10"
   ]
  },
  {
   "cell_type": "code",
   "execution_count": 53,
   "id": "b58db266",
   "metadata": {},
   "outputs": [],
   "source": [
    "my_string = \"Aprendiendo sobre inmutabilidad\""
   ]
  },
  {
   "cell_type": "code",
   "execution_count": 54,
   "id": "370ae67e",
   "metadata": {},
   "outputs": [
    {
     "data": {
      "text/plain": [
       "'Aprendiendo sobre inmutabilidad'"
      ]
     },
     "execution_count": 54,
     "metadata": {},
     "output_type": "execute_result"
    }
   ],
   "source": [
    "my_string"
   ]
  },
  {
   "cell_type": "code",
   "execution_count": 61,
   "id": "92effca3",
   "metadata": {},
   "outputs": [
    {
     "ename": "TypeError",
     "evalue": "'str' object does not support item assignment",
     "output_type": "error",
     "traceback": [
      "\u001b[1;31m---------------------------------------------------------------------------\u001b[0m",
      "\u001b[1;31mTypeError\u001b[0m                                 Traceback (most recent call last)",
      "\u001b[1;32m~\\AppData\\Local\\Temp\\ipykernel_1848\\3754197678.py\u001b[0m in \u001b[0;36m<module>\u001b[1;34m\u001b[0m\n\u001b[1;32m----> 1\u001b[1;33m \u001b[0mmy_string\u001b[0m\u001b[1;33m[\u001b[0m\u001b[1;36m0\u001b[0m\u001b[1;33m]\u001b[0m \u001b[1;33m=\u001b[0m \u001b[1;34m\"a\"\u001b[0m\u001b[1;33m\u001b[0m\u001b[1;33m\u001b[0m\u001b[0m\n\u001b[0m",
      "\u001b[1;31mTypeError\u001b[0m: 'str' object does not support item assignment"
     ]
    }
   ],
   "source": [
    "my_string[0] = \"a\""
   ]
  },
  {
   "cell_type": "code",
   "execution_count": 68,
   "id": "56d0b2c8",
   "metadata": {},
   "outputs": [],
   "source": [
    "colors = [\"rojo\", \"azul\", \"verde\", \"negro\"]"
   ]
  },
  {
   "cell_type": "code",
   "execution_count": 69,
   "id": "6992e255",
   "metadata": {},
   "outputs": [
    {
     "data": {
      "text/plain": [
       "['rojo', 'azul', 'verde', 'negro']"
      ]
     },
     "execution_count": 69,
     "metadata": {},
     "output_type": "execute_result"
    }
   ],
   "source": [
    "colors"
   ]
  },
  {
   "cell_type": "code",
   "execution_count": 72,
   "id": "09899305",
   "metadata": {},
   "outputs": [],
   "source": [
    "colors[0] = \"blanco\""
   ]
  },
  {
   "cell_type": "code",
   "execution_count": 73,
   "id": "5bd1de1b",
   "metadata": {},
   "outputs": [
    {
     "data": {
      "text/plain": [
       "['blanco', 'azul', 'verde', 'negro']"
      ]
     },
     "execution_count": 73,
     "metadata": {},
     "output_type": "execute_result"
    }
   ],
   "source": [
    "colors"
   ]
  },
  {
   "cell_type": "markdown",
   "id": "52f62478",
   "metadata": {},
   "source": [
    "## Función print()"
   ]
  },
  {
   "cell_type": "code",
   "execution_count": 74,
   "id": "01e0c9be",
   "metadata": {},
   "outputs": [],
   "source": [
    "# mostrar un resultado"
   ]
  },
  {
   "cell_type": "code",
   "execution_count": 75,
   "id": "718c012d",
   "metadata": {},
   "outputs": [
    {
     "name": "stdout",
     "output_type": "stream",
     "text": [
      "El valor de my_variable es: 567\n"
     ]
    }
   ],
   "source": [
    "my_variable = 567\n",
    "print(\"El valor de my_variable es:\", my_variable)"
   ]
  },
  {
   "cell_type": "code",
   "execution_count": 76,
   "id": "53ac6617",
   "metadata": {},
   "outputs": [
    {
     "name": "stdout",
     "output_type": "stream",
     "text": [
      "El valor de d es: 800\n"
     ]
    }
   ],
   "source": [
    "a= 100\n",
    "b= 500\n",
    "c= 200\n",
    "d= a+b+c\n",
    "print(\"El valor de d es:\", d)"
   ]
  },
  {
   "cell_type": "code",
   "execution_count": 77,
   "id": "17a1f7e0",
   "metadata": {},
   "outputs": [],
   "source": [
    "import builtins "
   ]
  },
  {
   "cell_type": "code",
   "execution_count": 78,
   "id": "a26b9077",
   "metadata": {},
   "outputs": [
    {
     "name": "stdout",
     "output_type": "stream",
     "text": [
      "Help on built-in function print in module builtins:\n",
      "\n",
      "print(...)\n",
      "    print(value, ..., sep=' ', end='\\n', file=sys.stdout, flush=False)\n",
      "    \n",
      "    Prints the values to a stream, or to sys.stdout by default.\n",
      "    Optional keyword arguments:\n",
      "    file:  a file-like object (stream); defaults to the current sys.stdout.\n",
      "    sep:   string inserted between values, default a space.\n",
      "    end:   string appended after the last value, default a newline.\n",
      "    flush: whether to forcibly flush the stream.\n",
      "\n"
     ]
    }
   ],
   "source": [
    "help(builtins.print)"
   ]
  },
  {
   "cell_type": "code",
   "execution_count": 79,
   "id": "ed70cd22",
   "metadata": {},
   "outputs": [
    {
     "name": "stdout",
     "output_type": "stream",
     "text": [
      "Help on built-in function print in module builtins:\n",
      "\n",
      "print(...)\n",
      "    print(value, ..., sep=' ', end='\\n', file=sys.stdout, flush=False)\n",
      "    \n",
      "    Prints the values to a stream, or to sys.stdout by default.\n",
      "    Optional keyword arguments:\n",
      "    file:  a file-like object (stream); defaults to the current sys.stdout.\n",
      "    sep:   string inserted between values, default a space.\n",
      "    end:   string appended after the last value, default a newline.\n",
      "    flush: whether to forcibly flush the stream.\n",
      "\n"
     ]
    }
   ],
   "source": [
    "help(print)"
   ]
  },
  {
   "cell_type": "code",
   "execution_count": 80,
   "id": "8f57bb64",
   "metadata": {},
   "outputs": [
    {
     "data": {
      "text/plain": [
       "['ArithmeticError',\n",
       " 'AssertionError',\n",
       " 'AttributeError',\n",
       " 'BaseException',\n",
       " 'BlockingIOError',\n",
       " 'BrokenPipeError',\n",
       " 'BufferError',\n",
       " 'BytesWarning',\n",
       " 'ChildProcessError',\n",
       " 'ConnectionAbortedError',\n",
       " 'ConnectionError',\n",
       " 'ConnectionRefusedError',\n",
       " 'ConnectionResetError',\n",
       " 'DeprecationWarning',\n",
       " 'EOFError',\n",
       " 'Ellipsis',\n",
       " 'EnvironmentError',\n",
       " 'Exception',\n",
       " 'False',\n",
       " 'FileExistsError',\n",
       " 'FileNotFoundError',\n",
       " 'FloatingPointError',\n",
       " 'FutureWarning',\n",
       " 'GeneratorExit',\n",
       " 'IOError',\n",
       " 'ImportError',\n",
       " 'ImportWarning',\n",
       " 'IndentationError',\n",
       " 'IndexError',\n",
       " 'InterruptedError',\n",
       " 'IsADirectoryError',\n",
       " 'KeyError',\n",
       " 'KeyboardInterrupt',\n",
       " 'LookupError',\n",
       " 'MemoryError',\n",
       " 'ModuleNotFoundError',\n",
       " 'NameError',\n",
       " 'None',\n",
       " 'NotADirectoryError',\n",
       " 'NotImplemented',\n",
       " 'NotImplementedError',\n",
       " 'OSError',\n",
       " 'OverflowError',\n",
       " 'PendingDeprecationWarning',\n",
       " 'PermissionError',\n",
       " 'ProcessLookupError',\n",
       " 'RecursionError',\n",
       " 'ReferenceError',\n",
       " 'ResourceWarning',\n",
       " 'RuntimeError',\n",
       " 'RuntimeWarning',\n",
       " 'StopAsyncIteration',\n",
       " 'StopIteration',\n",
       " 'SyntaxError',\n",
       " 'SyntaxWarning',\n",
       " 'SystemError',\n",
       " 'SystemExit',\n",
       " 'TabError',\n",
       " 'TimeoutError',\n",
       " 'True',\n",
       " 'TypeError',\n",
       " 'UnboundLocalError',\n",
       " 'UnicodeDecodeError',\n",
       " 'UnicodeEncodeError',\n",
       " 'UnicodeError',\n",
       " 'UnicodeTranslateError',\n",
       " 'UnicodeWarning',\n",
       " 'UserWarning',\n",
       " 'ValueError',\n",
       " 'Warning',\n",
       " 'WindowsError',\n",
       " 'ZeroDivisionError',\n",
       " '__IPYTHON__',\n",
       " '__build_class__',\n",
       " '__debug__',\n",
       " '__doc__',\n",
       " '__import__',\n",
       " '__loader__',\n",
       " '__name__',\n",
       " '__package__',\n",
       " '__spec__',\n",
       " 'abs',\n",
       " 'all',\n",
       " 'any',\n",
       " 'ascii',\n",
       " 'bin',\n",
       " 'bool',\n",
       " 'breakpoint',\n",
       " 'bytearray',\n",
       " 'bytes',\n",
       " 'callable',\n",
       " 'chr',\n",
       " 'classmethod',\n",
       " 'compile',\n",
       " 'complex',\n",
       " 'copyright',\n",
       " 'credits',\n",
       " 'delattr',\n",
       " 'dict',\n",
       " 'dir',\n",
       " 'display',\n",
       " 'divmod',\n",
       " 'enumerate',\n",
       " 'eval',\n",
       " 'exec',\n",
       " 'execfile',\n",
       " 'filter',\n",
       " 'float',\n",
       " 'format',\n",
       " 'frozenset',\n",
       " 'get_ipython',\n",
       " 'getattr',\n",
       " 'globals',\n",
       " 'hasattr',\n",
       " 'hash',\n",
       " 'help',\n",
       " 'hex',\n",
       " 'id',\n",
       " 'input',\n",
       " 'int',\n",
       " 'isinstance',\n",
       " 'issubclass',\n",
       " 'iter',\n",
       " 'len',\n",
       " 'license',\n",
       " 'list',\n",
       " 'locals',\n",
       " 'map',\n",
       " 'max',\n",
       " 'memoryview',\n",
       " 'min',\n",
       " 'next',\n",
       " 'object',\n",
       " 'oct',\n",
       " 'open',\n",
       " 'ord',\n",
       " 'pow',\n",
       " 'print',\n",
       " 'property',\n",
       " 'range',\n",
       " 'repr',\n",
       " 'reversed',\n",
       " 'round',\n",
       " 'runfile',\n",
       " 'set',\n",
       " 'setattr',\n",
       " 'slice',\n",
       " 'sorted',\n",
       " 'staticmethod',\n",
       " 'str',\n",
       " 'sum',\n",
       " 'super',\n",
       " 'tuple',\n",
       " 'type',\n",
       " 'vars',\n",
       " 'zip']"
      ]
     },
     "execution_count": 80,
     "metadata": {},
     "output_type": "execute_result"
    }
   ],
   "source": [
    "dir(builtins)"
   ]
  },
  {
   "cell_type": "markdown",
   "id": "f7a70b7e",
   "metadata": {},
   "source": [
    "## Función type()"
   ]
  },
  {
   "cell_type": "code",
   "execution_count": 81,
   "id": "519f8224",
   "metadata": {},
   "outputs": [
    {
     "name": "stdout",
     "output_type": "stream",
     "text": [
      "570\n"
     ]
    }
   ],
   "source": [
    "my_number= 570\n",
    "print(my_number)"
   ]
  },
  {
   "cell_type": "code",
   "execution_count": 82,
   "id": "c1caf9a3",
   "metadata": {},
   "outputs": [
    {
     "name": "stdout",
     "output_type": "stream",
     "text": [
      "570\n",
      "<class 'int'>\n"
     ]
    }
   ],
   "source": [
    "#Entero / int\n",
    "my_number= 570\n",
    "print(my_number)\n",
    "print(type(my_number))"
   ]
  },
  {
   "cell_type": "code",
   "execution_count": 83,
   "id": "b8e94a3e",
   "metadata": {},
   "outputs": [
    {
     "name": "stdout",
     "output_type": "stream",
     "text": [
      "Backend Phyton\n",
      "<class 'str'>\n"
     ]
    }
   ],
   "source": [
    "#Cadena / string\n",
    "my_string= \"Backend Phyton\"\n",
    "print(my_string)\n",
    "print(type(my_string))"
   ]
  },
  {
   "cell_type": "code",
   "execution_count": 84,
   "id": "1be8eac1",
   "metadata": {},
   "outputs": [
    {
     "name": "stdout",
     "output_type": "stream",
     "text": [
      "3.97\n",
      "<class 'float'>\n"
     ]
    }
   ],
   "source": [
    "#Flotantes / float\n",
    "my_float= 3.97\n",
    "print(my_float)\n",
    "print(type(my_float))"
   ]
  },
  {
   "cell_type": "code",
   "execution_count": 85,
   "id": "9e52ec14",
   "metadata": {},
   "outputs": [
    {
     "name": "stdout",
     "output_type": "stream",
     "text": [
      "\n",
      "<class 'str'>\n"
     ]
    }
   ],
   "source": [
    "#Cadenas / string\n",
    "my_string= \"\"\n",
    "print(my_string)\n",
    "print(type(my_string))"
   ]
  },
  {
   "cell_type": "code",
   "execution_count": 90,
   "id": "fee0bff4",
   "metadata": {},
   "outputs": [
    {
     "name": "stdout",
     "output_type": "stream",
     "text": [
      "True\n",
      "<class 'bool'>\n"
     ]
    }
   ],
   "source": [
    "# Boolean\n",
    "my_boolean= True\n",
    "print(my_boolean)\n",
    "print(type(my_boolean))"
   ]
  },
  {
   "cell_type": "code",
   "execution_count": 91,
   "id": "0823b1a7",
   "metadata": {},
   "outputs": [
    {
     "name": "stdout",
     "output_type": "stream",
     "text": [
      "False\n",
      "<class 'bool'>\n"
     ]
    }
   ],
   "source": [
    "# Boolean\n",
    "my_boolean= False\n",
    "print(my_boolean)\n",
    "print(type(my_boolean))"
   ]
  },
  {
   "cell_type": "code",
   "execution_count": 92,
   "id": "43d60387",
   "metadata": {},
   "outputs": [
    {
     "name": "stdout",
     "output_type": "stream",
     "text": [
      "False\n",
      "<class 'str'>\n"
     ]
    }
   ],
   "source": [
    "# Boolean\n",
    "my_boolean= \"False\"\n",
    "print(my_boolean)\n",
    "print(type(my_boolean))"
   ]
  },
  {
   "cell_type": "code",
   "execution_count": 95,
   "id": "93bd4739",
   "metadata": {},
   "outputs": [
    {
     "name": "stdout",
     "output_type": "stream",
     "text": [
      "[1, 7, 4, 2]\n",
      "<class 'list'>\n"
     ]
    }
   ],
   "source": [
    "# Listas / link\n",
    "my_list = [1,7,4,2]\n",
    "print(my_list)\n",
    "print(type(my_list))\n"
   ]
  },
  {
   "cell_type": "code",
   "execution_count": 96,
   "id": "ae841ae1",
   "metadata": {},
   "outputs": [
    {
     "name": "stdout",
     "output_type": "stream",
     "text": [
      "(1, 7, 4, 2)\n",
      "<class 'tuple'>\n"
     ]
    }
   ],
   "source": [
    "# Tuplas / tuples\n",
    "my_tuple = (1,7,4,2)\n",
    "print(my_tuple)\n",
    "print(type(my_tuple))"
   ]
  },
  {
   "cell_type": "code",
   "execution_count": 97,
   "id": "c434cad7",
   "metadata": {},
   "outputs": [
    {
     "name": "stdout",
     "output_type": "stream",
     "text": [
      "{1, 2, 4, 5, 'Phyton'}\n",
      "<class 'set'>\n"
     ]
    }
   ],
   "source": [
    "# Set\n",
    "my_set = {4,1, \"Phyton\", 2,5}\n",
    "print(my_set)\n",
    "print(type(my_set))"
   ]
  },
  {
   "cell_type": "code",
   "execution_count": 98,
   "id": "abb3be77",
   "metadata": {},
   "outputs": [
    {
     "name": "stdout",
     "output_type": "stream",
     "text": [
      "{'a': 20, 'b': 50, 'c': 35}\n",
      "<class 'dict'>\n"
     ]
    }
   ],
   "source": [
    "# Diccionarios / dict\n",
    "my_dictionary = {\"a\":20, \"b\":50, \"c\":35}\n",
    "print(my_dictionary)\n",
    "print(type(my_dictionary))"
   ]
  },
  {
   "cell_type": "markdown",
   "id": "4c203d47",
   "metadata": {},
   "source": [
    "## Función id"
   ]
  },
  {
   "cell_type": "markdown",
   "id": "b9aaeea3",
   "metadata": {},
   "source": [
    "#### id() función para obtener la dirección de memoria"
   ]
  },
  {
   "cell_type": "code",
   "execution_count": 100,
   "id": "afff80b2",
   "metadata": {},
   "outputs": [
    {
     "name": "stdout",
     "output_type": "stream",
     "text": [
      "Phyton\n",
      "<class 'str'>\n",
      "1314461649328\n"
     ]
    }
   ],
   "source": [
    "#Cadena / string\n",
    "my_string= \"Phyton\"\n",
    "print(my_string)\n",
    "print(type(my_string))\n",
    "print (id(my_string))"
   ]
  },
  {
   "cell_type": "code",
   "execution_count": 101,
   "id": "d178e2d0",
   "metadata": {},
   "outputs": [
    {
     "name": "stdout",
     "output_type": "stream",
     "text": [
      "Backend\n",
      "<class 'str'>\n",
      "1314461649520\n"
     ]
    }
   ],
   "source": [
    "#Cadena / string\n",
    "my_string2= \"Backend\"\n",
    "print(my_string2)\n",
    "print(type(my_string2))\n",
    "print (id(my_string2))"
   ]
  },
  {
   "cell_type": "code",
   "execution_count": 102,
   "id": "70fb14db",
   "metadata": {},
   "outputs": [
    {
     "name": "stdout",
     "output_type": "stream",
     "text": [
      "Phyton\n",
      "Phyton\n",
      "<class 'str'>\n",
      "<class 'str'>\n",
      "1314461649328\n",
      "1314461649328\n"
     ]
    }
   ],
   "source": [
    "#Cadena / string\n",
    "my_string= \"Phyton\"\n",
    "my_string3= \"Phyton\"\n",
    "print(my_string)\n",
    "print(my_string3)\n",
    "print(type(my_string))\n",
    "print(type(my_string3))\n",
    "print (id(my_string))\n",
    "print (id(my_string3))"
   ]
  },
  {
   "cell_type": "markdown",
   "id": "308a3077",
   "metadata": {},
   "source": [
    "## Múltiples Valores de Entrada"
   ]
  },
  {
   "cell_type": "code",
   "execution_count": 103,
   "id": "4298fb4a",
   "metadata": {},
   "outputs": [
    {
     "name": "stdout",
     "output_type": "stream",
     "text": [
      "Ingresa el valor de my_number:  670\n",
      "El valor de my_number es:  670\n"
     ]
    }
   ],
   "source": [
    "my_number = input(\"Ingresa el valor de my_number:  \")\n",
    "print (\"El valor de my_number es: \", my_number)"
   ]
  },
  {
   "cell_type": "code",
   "execution_count": 105,
   "id": "0f2e586d",
   "metadata": {},
   "outputs": [
    {
     "name": "stdout",
     "output_type": "stream",
     "text": [
      "Ingresa los 3 valores: 100 200 300\n",
      "El valor de a es:  100\n",
      "El valor de b es:  200\n",
      "El valor de c es:  300\n"
     ]
    }
   ],
   "source": [
    "a,b,c = input(\"Ingresa los 3 valores: \"). split()\n",
    "print (\"El valor de a es: \", a)\n",
    "print (\"El valor de b es: \", b)\n",
    "print (\"El valor de c es: \", c)"
   ]
  },
  {
   "cell_type": "code",
   "execution_count": 106,
   "id": "9ac69436",
   "metadata": {},
   "outputs": [
    {
     "name": "stdout",
     "output_type": "stream",
     "text": [
      "Ingresa los 3 valores separados por coma: 500, 600, 700\n",
      "El valor de a es:  500\n",
      "El valor de b es:   600\n",
      "El valor de c es:   700\n"
     ]
    }
   ],
   "source": [
    "a,b,c = input(\"Ingresa los 3 valores separados por coma: \"). split(\",\")\n",
    "print (\"El valor de a es: \", a)\n",
    "print (\"El valor de b es: \", b)\n",
    "print (\"El valor de c es: \", c)"
   ]
  },
  {
   "cell_type": "code",
   "execution_count": null,
   "id": "86d53758",
   "metadata": {},
   "outputs": [],
   "source": []
  }
 ],
 "metadata": {
  "kernelspec": {
   "display_name": "Python 3 (ipykernel)",
   "language": "python",
   "name": "python3"
  },
  "language_info": {
   "codemirror_mode": {
    "name": "ipython",
    "version": 3
   },
   "file_extension": ".py",
   "mimetype": "text/x-python",
   "name": "python",
   "nbconvert_exporter": "python",
   "pygments_lexer": "ipython3",
   "version": "3.9.13"
  }
 },
 "nbformat": 4,
 "nbformat_minor": 5
}
